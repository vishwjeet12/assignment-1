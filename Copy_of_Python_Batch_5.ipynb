{
  "nbformat": 4,
  "nbformat_minor": 0,
  "metadata": {
    "colab": {
      "name": "Copy of Python  Batch  5.ipynb",
      "provenance": [],
      "authorship_tag": "ABX9TyPp3xq5F3F9gopD3KQjb/U4",
      "include_colab_link": true
    },
    "kernelspec": {
      "name": "python3",
      "display_name": "Python 3"
    }
  },
  "cells": [
    {
      "cell_type": "markdown",
      "metadata": {
        "id": "view-in-github",
        "colab_type": "text"
      },
      "source": [
        "<a href=\"https://colab.research.google.com/github/vishwjeet12/assignment-1/blob/master/Copy_of_Python_Batch_5.ipynb\" target=\"_parent\"><img src=\"https://colab.research.google.com/assets/colab-badge.svg\" alt=\"Open In Colab\"/></a>"
      ]
    },
    {
      "cell_type": "code",
      "metadata": {
        "id": "9E0ZG-LaotwC",
        "colab_type": "code",
        "colab": {}
      },
      "source": [
        ""
      ],
      "execution_count": null,
      "outputs": []
    },
    {
      "cell_type": "markdown",
      "metadata": {
        "id": "_vArr7kVo4W-",
        "colab_type": "text"
      },
      "source": [
        "Day one:Assignment 1:"
      ]
    },
    {
      "cell_type": "markdown",
      "metadata": {
        "id": "gQOMU2_vpDFK",
        "colab_type": "text"
      },
      "source": [
        " Python  Batch  5, Day1 Assignment 1.\n",
        "NAME: VISHWJEET MALOKAR ___________________________________________\n",
        "Assignment Questions Answers\n",
        "Q1) How does a computer Program Works ?\n",
        "   A computer program is a collection of instructions that can be executed by a computer to perform a specific task. From the program in its human-readable from of source code, a compiler or assembler can derive machine code a form consisting of instructions that the computer can directly execute.\n",
        "Q2) Can we compare natural vs Programming Language?\n",
        "   There are a number of differences: Programming languages are (designed to be)easily used by machines, but not people. Natural languages (like English) are easy to use by humans, but not machines. Programming does allow some variation in style, but the meaning is not flexible.    \n",
        "Q3) What is Compiation Vs Interpretation? \n",
        "   Compiler and interpreters take human-readable code convert it to computer-readable machine code . In a compiled language, the target machine directly translates the program. In a interpreted language , the source code is not directly translated by the target machine.\n",
        "Q4) What Does Interpreter actually Do ?\n",
        "   An interpreter translates High-level instructions into an intermediate form, which it them executes. In contrast, a compiler translates high-level instructions directly into machine language. Compiled programs generally run faster than interpreted programs.\n",
        "Q5) Waht is Python ?\n",
        "   Python is an interpreted, high-level, general-purpose programming language.Created by Guido van Rossum and first released in 1991, Python's design philosophy emphasizes code readability with its notable use of significant whitespace.\n",
        "Q6) What are Characteristics of Python ?\n",
        "   The characteristics of Python are.\n",
        "1.  Python is a dynamic, high level, free open source and interpreted programming language.\n",
        "2.  Easy to code.\n",
        "3.  Object-Oriented language.\n",
        "4.  High-level language.\n",
        "5.  Extensible features.\n",
        "6.  Python is a portable language\n",
        "Q7) What are features of Python ?\n",
        "   Features of Python.\n",
        "1.  Python is a dynamic, high level, free open source and interpreted programming language.\n",
        "2.  Easy to code.\n",
        "3.  Object-Oriented language.\n",
        "4.  High-level language.\n",
        "5.  Extensible features.\n",
        "6.  Python is a portable language\n",
        "     \n",
        "Q8) What are different flavours of Python ?\n",
        "   Different flavours of Python.\n",
        "1.  Cpython: It is a Python compiler that was implemented in C language.\n",
        "2.  JPython: It is enables Python implementation to be run on java platform.\n",
        "3.  IronPyhon:It is compiler designed for.\n",
        "4.  PyPy:It is a Python implemented by using Python language itself.\n",
        "5.  Ruby Python.\n",
        "6.  Pythonxy.\n",
        "7.  Stackless Python."
      ]
    },
    {
      "cell_type": "markdown",
      "metadata": {
        "id": "EZfeDl9hvBpn",
        "colab_type": "text"
      },
      "source": [
        "_-_-_-_-_-_-_-_-----------_-_-__________-------------------------------------"
      ]
    },
    {
      "cell_type": "markdown",
      "metadata": {
        "id": "soA7XOWVpUEG",
        "colab_type": "text"
      },
      "source": [
        "<h4> Day 2:assignment:2</h4>"
      ]
    },
    {
      "cell_type": "markdown",
      "metadata": {
        "id": "11wntTnWpaIT",
        "colab_type": "text"
      },
      "source": [
        " Data type in python"
      ]
    },
    {
      "cell_type": "code",
      "metadata": {
        "id": "26qO5rHVpj56",
        "colab_type": "code",
        "colab": {}
      },
      "source": [
        ""
      ],
      "execution_count": null,
      "outputs": []
    },
    {
      "cell_type": "markdown",
      "metadata": {
        "id": "wNtePbDKpkW-",
        "colab_type": "text"
      },
      "source": [
        " \n",
        "Number"
      ]
    },
    {
      "cell_type": "markdown",
      "metadata": {
        "id": "PzYqj72wp7uO",
        "colab_type": "text"
      },
      "source": [
        "String"
      ]
    },
    {
      "cell_type": "markdown",
      "metadata": {
        "id": "uGwipn0ip942",
        "colab_type": "text"
      },
      "source": [
        " List"
      ]
    },
    {
      "cell_type": "markdown",
      "metadata": {
        "id": "hc6nCukBqCIU",
        "colab_type": "text"
      },
      "source": [
        " Tuple"
      ]
    },
    {
      "cell_type": "markdown",
      "metadata": {
        "id": "2SA6VTFOqFO3",
        "colab_type": "text"
      },
      "source": [
        " Sets"
      ]
    },
    {
      "cell_type": "markdown",
      "metadata": {
        "id": "LRKwtTb-qLes",
        "colab_type": "text"
      },
      "source": [
        " Dictionary"
      ]
    },
    {
      "cell_type": "markdown",
      "metadata": {
        "id": "SOkzFTVfqQ12",
        "colab_type": "text"
      },
      "source": [
        " Boolean"
      ]
    },
    {
      "cell_type": "markdown",
      "metadata": {
        "id": "e-jcJy16qUpY",
        "colab_type": "text"
      },
      "source": [
        " 1: Number"
      ]
    },
    {
      "cell_type": "markdown",
      "metadata": {
        "id": "WQgknml4q4UF",
        "colab_type": "text"
      },
      "source": [
        " Integer Data Type int()"
      ]
    },
    {
      "cell_type": "code",
      "metadata": {
        "id": "6Jby73vlq6R5",
        "colab_type": "code",
        "colab": {
          "base_uri": "https://localhost:8080/",
          "height": 54
        },
        "outputId": "142f5fd1-b123-446f-a54b-38418282e499"
      },
      "source": [
        " \n",
        "a=100\n",
        "print(\"The type of variable having value\", a, \" is \", type(a))"
      ],
      "execution_count": null,
      "outputs": [
        {
          "output_type": "stream",
          "text": [
            "The type of variable having value 100  is  <class 'int'>\n"
          ],
          "name": "stdout"
        }
      ]
    },
    {
      "cell_type": "markdown",
      "metadata": {
        "id": "wZfX5VfNsW0K",
        "colab_type": "text"
      },
      "source": [
        " Integer to Binary & Binary to Integer"
      ]
    },
    {
      "cell_type": "code",
      "metadata": {
        "id": "qc8GqDX1sZeF",
        "colab_type": "code",
        "colab": {
          "base_uri": "https://localhost:8080/",
          "height": 54
        },
        "outputId": "959d50cf-e11c-4459-886e-275ee3dad7c3"
      },
      "source": [
        "a=25\n",
        "print (\"The type of variable having value\", bin(a),\"is\",type(a))"
      ],
      "execution_count": null,
      "outputs": [
        {
          "output_type": "stream",
          "text": [
            "The type of variable having value 0b11001 is <class 'int'>\n"
          ],
          "name": "stdout"
        }
      ]
    },
    {
      "cell_type": "code",
      "metadata": {
        "id": "VpEYT4MCtufN",
        "colab_type": "code",
        "colab": {
          "base_uri": "https://localhost:8080/",
          "height": 54
        },
        "outputId": "add03ea5-a6e1-407c-ce7e-6f0e51b7143d"
      },
      "source": [
        "a=0b1111                          \n",
        "print(\"The type of variable having value\", int(a), \" is \", type(a))"
      ],
      "execution_count": null,
      "outputs": [
        {
          "output_type": "stream",
          "text": [
            "The type of variable having value 15  is  <class 'int'>\n"
          ],
          "name": "stdout"
        }
      ]
    },
    {
      "cell_type": "code",
      "metadata": {
        "id": "54zUYnlYt2rw",
        "colab_type": "code",
        "colab": {
          "base_uri": "https://localhost:8080/",
          "height": 54
        },
        "outputId": "da148aa0-bd50-4a02-96aa-82c70c7fc24f"
      },
      "source": [
        " \n",
        " a= -0B1111\n",
        "print(\"The type of variable having value\", int(a), \" is \", type(a))"
      ],
      "execution_count": null,
      "outputs": [
        {
          "output_type": "stream",
          "text": [
            "The type of variable having value -15  is  <class 'int'>\n"
          ],
          "name": "stdout"
        }
      ]
    },
    {
      "cell_type": "markdown",
      "metadata": {
        "id": "ZIHbyDXqudSH",
        "colab_type": "text"
      },
      "source": [
        " Integer to Octal & Octal To Integer"
      ]
    },
    {
      "cell_type": "code",
      "metadata": {
        "id": "NEyn0ig4ue5Q",
        "colab_type": "code",
        "colab": {
          "base_uri": "https://localhost:8080/",
          "height": 54
        },
        "outputId": "f51e66b0-0bf3-4737-99b2-efe39d6bb36b"
      },
      "source": [
        " \n",
        "a = 23\n",
        "print(\"The type of variable having value\", oct(a), \" is \", type(a))"
      ],
      "execution_count": null,
      "outputs": [
        {
          "output_type": "stream",
          "text": [
            "The type of variable having value 0o27  is  <class 'int'>\n"
          ],
          "name": "stdout"
        }
      ]
    }
  ]
}